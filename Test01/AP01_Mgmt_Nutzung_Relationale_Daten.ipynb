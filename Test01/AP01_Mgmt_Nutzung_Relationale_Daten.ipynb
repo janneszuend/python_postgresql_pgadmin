{
 "cells": [
  {
   "cell_type": "markdown",
   "id": "4cf56921",
   "metadata": {},
   "source": [
    "# Arbeitspaket (AP) 1: Management & Nutzung Relationale Daten"
   ]
  },
  {
   "cell_type": "markdown",
   "id": "0f7fb22f",
   "metadata": {},
   "source": [
    "### Persönliche Angaben (bitte ergänzen)"
   ]
  },
  {
   "cell_type": "markdown",
   "id": "94d35a25",
   "metadata": {},
   "source": [
    "<table>\n",
    "  <tr>\n",
    "    <td>Vorname:</td>\n",
    "    <td></td>\n",
    "  </tr>\n",
    "  <tr>\n",
    "    <td>Nachname:</td>\n",
    "    <td></td>\n",
    "  </tr>\n",
    "  <tr>\n",
    "    <td>Immatrikulationsnummer:</td>\n",
    "    <td></td>\n",
    "  </tr>\n",
    "  <tr>\n",
    "    <td>Modul:</td>\n",
    "    <td>Data Science</td>\n",
    "  </tr>\n",
    "  <tr>\n",
    "    <td>Prüfungsdatum / Raum / Zeit:</td>\n",
    "    <td>06.10.2025 / Raum: MU O2.001 / 8:00 – 11:45</td>\n",
    "  </tr>\n",
    "  <tr>\n",
    "    <td>Erlaubte Hilfsmittel:</td>\n",
    "    <td>w.MA.XX.DS.25HS (Data Science)<br>Open Book, Eigener Computer, Internet-Zugang</td>\n",
    "  </tr>\n",
    "  <tr>\n",
    "  <td>Nicht erlaubt:</td>\n",
    "  <td>Nicht erlaubt ist der Einsatz beliebiger Formen von generativer KI (z.B. Copilot, ChatGPT, Google’s «Übersicht mit KI») <br> sowie beliebige Formen von Kommunikation oder Kollaboration mit anderen Menschen.</td>\n",
    "</tr>\n",
    "</table>"
   ]
  },
  {
   "cell_type": "markdown",
   "id": "61847f62",
   "metadata": {},
   "source": [
    "## Bewertungskriterien\n",
    "\n",
    "### <b style=\"color: gray;\">(max. erreichbare Punkte: 40)</b>\n",
    "\n",
    "<table>\n",
    "  <thead>\n",
    "    <tr>\n",
    "      <th>Kategorie</th>\n",
    "      <th>Beschreibung</th>\n",
    "      <th>Punkteverteilung</th>\n",
    "    </tr>\n",
    "  </thead>\n",
    "  <tbody>\n",
    "    <tr>\n",
    "      <td>Code nicht lauffähig oder Ergebnisse nicht sinnvoll</td>\n",
    "      <td>Der Code enthält Fehler, die verhindern, dass er ausgeführt werden kann (z.B. Syntaxfehler) oder es werden Ergebnisse ausgegeben, welche nicht zur Fragestellung passen.</td>\n",
    "      <td>0 Punkte</td>\n",
    "    </tr>\n",
    "    <tr>\n",
    "      <td>Code lauffähig, aber mit gravierenden Mängeln</td>\n",
    "      <td>Der Code läuft, aber die Ergebnisse sind aufgrund wesentlicher Fehler unvollständig (z.B. fehlende Joins, gravierende Fehler in SQL-Abfragen). Nur geringer Fortschritt erkennbar.</td>\n",
    "      <td>25% der max. erreichbaren Punkte</td>\n",
    "    </tr>\n",
    "    <tr>\n",
    "      <td>Code lauffähig, aber mit mittleren Mängeln</td>\n",
    "      <td>Der Code läuft und liefert teilweise korrekte Ergebnisse, aber es gibt grössere Fehler (z.B. fehlende Spalten, unvollständige SQL-Abfragen). Die Ergebnisse sind nachvollziehbar, aber unvollständig oder ungenau.</td>\n",
    "      <td>50% der max. erreichbaren Punkte</td>\n",
    "    </tr>\n",
    "    <tr>\n",
    "      <td>Code lauffähig, aber mit minimalen Mängeln</td>\n",
    "      <td>Der Code läuft und liefert ein weitgehend korrektes Ergebnis, aber kleinere Fehler (z.B. falsche oder fehlende Sortierung, Rundung von Werten falsch) beeinträchtigen die Vollständigkeit des Ergebnisses.</td>\n",
    "      <td>75% der max. erreichbaren Punkte</td>\n",
    "    </tr>\n",
    "    <tr>\n",
    "      <td>Code lauffähig und korrekt</td>\n",
    "      <td>Der Code läuft einwandfrei und liefert das korrekte Ergebnis ohne Mängel.</td>\n",
    "      <td>100% der max. erreichbaren Punkte</td>\n",
    "    </tr>\n",
    "  </tbody>\n",
    "</table>\n",
    "\n"
   ]
  },
  {
   "cell_type": "markdown",
   "id": "9b8df3dd",
   "metadata": {},
   "source": [
    "## Python Libraries und Settings"
   ]
  },
  {
   "cell_type": "code",
   "execution_count": null,
   "id": "b027d889",
   "metadata": {},
   "outputs": [],
   "source": [
    "# Libraries\n",
    "import os\n",
    "import sqlite3\n",
    "import pandas as pd\n",
    "from sqlalchemy import create_engine, text\n",
    "\n",
    "# Settings\n",
    "import warnings\n",
    "warnings.filterwarnings(\"ignore\")\n",
    "\n",
    "# Working directory\n",
    "print(os.getcwd())"
   ]
  },
  {
   "cell_type": "markdown",
   "id": "aac9011e",
   "metadata": {},
   "source": [
    "## <b>Vorbereitung (Dieser Teil wird <u>nicht</u> bewertet!)</b>"
   ]
  },
  {
   "cell_type": "markdown",
   "id": "2e253f40",
   "metadata": {},
   "source": [
    "#### <b>1.) Starten Sie eine GitHub Codespaces Instanz auf Basis Ihres Forks des folgenden GitHub Repositories:</b>\n",
    "\n",
    "##### GitHub-Repository: https://github.com/mario-gellrich-zhaw/python_postgresql_pgadmin\n"
   ]
  },
  {
   "cell_type": "markdown",
   "id": "a2442005",
   "metadata": {},
   "source": [
    "#### <b>2.) Erstellen und Testen Sie eine Datenbankverbindung mit der 'postgres' Datenbank.</b>"
   ]
  },
  {
   "cell_type": "code",
   "execution_count": null,
   "id": "36ca64be",
   "metadata": {},
   "outputs": [],
   "source": [
    "# Set up für Datenbankverbindung\n",
    "user = \"pgadmin\"\n",
    "password = \"geheim\"\n",
    "host = \"localhost\"\n",
    "port = \"5432\"\n",
    "database = \"postgres\"\n",
    "\n",
    "# Erstellen der Connection URL\n",
    "db_connection_url = \"postgresql://\" + user + \":\" + password +\\\n",
    "                    \"@\" + host + \":\" + port + \"/\" + database\n",
    "\n",
    "# Erstellen SQLAlchemy Engine\n",
    "engine = create_engine(db_connection_url)\n",
    "\n",
    "# Test der Datenbankverbindung\n",
    "with engine.connect() as connection:\n",
    "    result = connection.execute(text('SELECT current_database()'))\n",
    "    print(result.fetchone())\n",
    "\n",
    "# Verbindung trennen\n",
    "engine.dispose()"
   ]
  },
  {
   "cell_type": "markdown",
   "id": "53f4b234",
   "metadata": {},
   "source": [
    "#### <b>3.) Lesen Sie die Tabellenblätter aus 'bike_shop_data.xlsx' ein, und speichern Sie diese in separaten DataFrames.</b>"
   ]
  },
  {
   "cell_type": "code",
   "execution_count": null,
   "id": "ef32ffa2-1859-48af-a78c-0f1b5748fc98",
   "metadata": {},
   "outputs": [],
   "source": [
    "# Pfad zur .xlsx Datei\n",
    "path = 'bike_shop_data.xlsx'\n",
    "\n",
    "# Einlesen der Daten aus Excel File\n",
    "df_bicycles = pd.read_excel(path, sheet_name='Bicycles')\n",
    "df_customers = pd.read_excel(path, sheet_name='Customers')\n",
    "df_sales = pd.read_excel(path, sheet_name='Sales')\n",
    "df_salespersons = pd.read_excel(path, sheet_name='SalesPersons')\n",
    "df_mechanics = pd.read_excel(path, sheet_name='Mechanics')\n",
    "df_servicerecords = pd.read_excel(path, sheet_name='ServiceRecords')\n",
    "\n",
    "# Anpassen der Spaltennamen zu 'lowercase'\n",
    "df_bicycles.columns = df_bicycles.columns.str.lower()\n",
    "df_customers.columns = df_customers.columns.str.lower()\n",
    "df_sales.columns = df_sales.columns.str.lower()\n",
    "df_salespersons.columns = df_salespersons.columns.str.lower()\n",
    "df_mechanics.columns = df_mechanics.columns.str.lower()\n",
    "df_servicerecords.columns = df_servicerecords.columns.str.lower()\n"
   ]
  },
  {
   "cell_type": "markdown",
   "id": "66164662",
   "metadata": {},
   "source": [
    "#### <b>4.) Schreiben Sie die erstellten DataFrames in separate Tabellen in Ihrer Datenbank.</b>"
   ]
  },
  {
   "cell_type": "code",
   "execution_count": null,
   "id": "cfd07b2d-1b23-4c93-b3f9-ccc3dcc73c31",
   "metadata": {},
   "outputs": [],
   "source": [
    "# Engine für Datenbankverbindung erstellen\n",
    "engine = create_engine(db_connection_url)\n",
    "\n",
    "# Schreiben der DataFrames in die Datenbank\n",
    "df_bicycles.to_sql('bicycles', engine, if_exists='replace')\n",
    "df_customers.to_sql('customers', engine, if_exists='replace')\n",
    "df_sales.to_sql('sales', engine, if_exists='replace')\n",
    "df_salespersons.to_sql('salespersons', engine, if_exists='replace')\n",
    "df_mechanics.to_sql('mechanics', engine, if_exists='replace')\n",
    "df_servicerecords.to_sql('servicerecords', engine, if_exists='replace')\n",
    "\n",
    "# Datenbankverbindung trennen\n",
    "engine.dispose()"
   ]
  },
  {
   "cell_type": "markdown",
   "id": "4f6fa711",
   "metadata": {},
   "source": [
    "<div>\n",
    "\n",
    "#### <b> Hinweis! \n",
    "\n",
    "#### Falls etwas mit der PostgreSQL - Verbindung nicht funktioniert, verwenden Sie für die folgenden Aufgaben die SQLite Datenbank 'bike_shop.db'.</b>\n",
    "\n",
    "#### <b> Erstellen Sie dazu eine neue Code-Zelle unterhalb dieser Markdown-Zelle und führen Sie den Code dort aus.</b>\n",
    "\n",
    "#### <b> Das folgende Python-Codebeispiel demonstriert den Verbindungsaufbau mit der SQLite Datenbank mit Python.</b>\n",
    "\n",
    "```python\n",
    "# Engine für Datenbankverbindung erstellen\n",
    "engine = create_engine('sqlite:///bike_shop.db')\n",
    "\n",
    "# SQL Abfrage\n",
    "df_sub = pd.read_sql_query(\"\"\"SELECT *\n",
    "                              FROM bicycles;\"\"\",\n",
    "                          con=engine)\n",
    "\n",
    "# Schliessen der Datenbankverbindung\n",
    "engine.dispose()\n",
    "\n",
    "df_sub \n",
    "```\n",
    "</div>"
   ]
  },
  {
   "cell_type": "markdown",
   "id": "e5c27b72",
   "metadata": {},
   "source": [
    "## <b>Aufgaben (Dieser Teil wird bewertet!)</b>\n",
    "<b>Hinweise zu den folgenden Aufgabenstellungen:</b>\n",
    "<ul>\n",
    "  <li>Erstellen Sie je Aufgabe eine SQL Abfrage und integrieren Sie diese in Ihren Python Code.</li>\n",
    "  <li>Speichern Sie je Aufgabe die Ergebnistabelle in einem DataFrame und stellen Sie diesen ganz oder in Teilen (z.B. erste 5 Zeilen) dar.</li>\n",
    "</ul>\n",
    "<b style=\"color:red;\">Beachten Sie, dass für die Punktevergabe auch die weiteren Anforderungen zu den Fragen unter 'Details zur Aufgabenstellung' herangezogen werden.</b>"
   ]
  },
  {
   "cell_type": "markdown",
   "id": "6033f466",
   "metadata": {},
   "source": [
    "#### <b>Aufgabe (1): Bestimmen Sie die Anzahl Bicycles pro Status.</b>\n",
    "<b>Details zur Aufgabenstellung:</b>  \n",
    "- Benötigte Tabelle: Bicycles  \n",
    "- Benötigte Spalten: Status  \n",
    "- Die Ergebnistabelle soll die Spalten enthalten: Status, BicycleCount.  \n",
    "- Sortieren Sie die Ausgabe nach BicycleCount (absteigend).  \n",
    "\n",
    "<b style=\"color: gray;\">(max. erreichbare Punkte: 4)</b>"
   ]
  },
  {
   "cell_type": "code",
   "execution_count": null,
   "id": "fdfcb555",
   "metadata": {},
   "outputs": [],
   "source": [
    "# Engine für Datenbankverbindung erstellen\n",
    "\n",
    "\n",
    "# SQL-Abfrage erstellen und ausführen\n",
    "\n",
    "\n",
    "# Datenbankverbindung trennen\n",
    "\n",
    "\n",
    "# Ergebnis anzeigen\n"
   ]
  },
  {
   "cell_type": "markdown",
   "id": "c31d4887",
   "metadata": {},
   "source": [
    "#### <b>Aufgabe (2): Listen Sie den durchschnittlichen Verkaufspreis der Bicycles für jede Kombination aus Marke und Modell auf.</b>\n",
    "<b>Details zur Aufgabenstellung:</b>\n",
    "- Benötigte Tabelle: Bicycles.\n",
    "- Benötigte Spalten: Price, Make, Model.\n",
    "- Die Ergebnistabelle soll die Spalten Make, Model und AveragePrice enthalten.\n",
    "- Runden Sie den Durchschnittspreis auf zwei Nachkommastellen.\n",
    "- Sortieren Sie die Ausgabe absteigend nach Make und absteigend nach AveragePrice.\n",
    "\n",
    "<b>Tipp:</b>\n",
    "- Eine Sortierung über zwei Spalten kann z.B. mittels 'ORDER BY Spalte A DESC, Spalte B DESC' erfolgen.\n",
    "\n",
    "<b style=\"color: gray;\">(max. erreichbare Punkte: 4)</b>"
   ]
  },
  {
   "cell_type": "code",
   "execution_count": null,
   "id": "93aad8fd",
   "metadata": {},
   "outputs": [],
   "source": [
    "# Engine für Datenbankverbindung erstellen\n",
    "\n",
    "\n",
    "# SQL-Abfrage erstellen und ausführen\n",
    "\n",
    "\n",
    "# Datenbankverbindung trennen\n",
    "\n",
    "\n",
    "# Ergebnis anzeigen\n"
   ]
  },
  {
   "cell_type": "markdown",
   "id": "acc3fec8",
   "metadata": {},
   "source": [
    "#### <b>Aufgabe (3): Ermitteln Sie, wie viele Bicycles pro Marke einen Preis von 2'000.- bis 4'000.- USD haben.</b>\n",
    "<b>Details zur Aufgabenstellung:</b>\n",
    "- Benötigte Tabelle: Bicycles.\n",
    "- Benötigte Spalten: Make, Price.\n",
    "- Die Ergebnistabelle soll die Spalten Make und NumberOfBikes enthalten.\n",
    "- Sortieren Sie die Ausgabe absteigend nach NumberOfBikes.\n",
    "\n",
    "<b>Tipp:</b>\n",
    "- Ein Werte und Datumsrange kann mittels 'BETWEEN' und 'AND' definiert werden.\n",
    "- Dabei ist in PostgreSQL 'BETWEEN' inklusive der verwendeten Angaben an beiden Enden.\n",
    "- z.B. WHERE Value BETWEEN 22 AND 45 schliesst 22 und 45 mit ein.\n",
    "- z.B. WHERE Datum BETWEEN '2021-01-01' AND '2021-12-31' beinhaltet das gesamte Jahr 2021.\n",
    "\n",
    "<b style=\"color: gray;\">(max. erreichbare Punkte: 4)</b>"
   ]
  },
  {
   "cell_type": "code",
   "execution_count": null,
   "id": "ed99968e",
   "metadata": {},
   "outputs": [],
   "source": [
    "# Engine für Datenbankverbindung erstellen\n",
    "\n",
    "\n",
    "# SQL-Abfrage erstellen und ausführen\n",
    "\n",
    "\n",
    "# Datenbankverbindung trennen\n",
    "\n",
    "\n",
    "# Ergebnis anzeigen\n"
   ]
  },
  {
   "cell_type": "markdown",
   "id": "2b80dc61",
   "metadata": {},
   "source": [
    "#### <b>Aufgabe (4): Ermitteln Sie die durchschnittlichen Kosten für den Service 'Gear shifting adjustment' pro Jahr.</b>\n",
    "<b>Details zur Aufgabenstellung:</b>\n",
    "- Benötigte Tabelle: ServiceRecords\n",
    "- Benötigte Spalten: ServiceDate, ServiceDescription, Cost\n",
    "- Die Ergebnistabelle soll die Spalten Year und AverageServiceCosts enthalten.\n",
    "- Sortieren Sie die Tabelle Absteigend nach AverageServiceCosts.\n",
    "\n",
    "<b>Tipp:</b>\n",
    "- Mit EXTRACT(YEAR FROM ServiceDate) AS Year können Sie das Jahr aus ServiceDate extrahieren.\n",
    "\n",
    "<b style=\"color: gray;\">(max. erreichbare Punkte: 4)</b>"
   ]
  },
  {
   "cell_type": "code",
   "execution_count": null,
   "id": "077a187d-05be-4c30-a367-a4e1a19d4466",
   "metadata": {},
   "outputs": [],
   "source": [
    "# Engine für Datenbankverbindung erstellen\n",
    "\n",
    "\n",
    "# SQL-Abfrage erstellen und ausführen\n",
    "\n",
    "\n",
    "# Datenbankverbindung trennen\n",
    "\n",
    "\n",
    "# Ergebnis anzeigen\n"
   ]
  },
  {
   "cell_type": "markdown",
   "id": "ba5b3943",
   "metadata": {},
   "source": [
    "#### <b>Aufgabe (5): Ermitteln Sie, wie viele Bicycles jeder Verkäufer verkauft hat und zu welchem Gesamtpreis.</b>\n",
    "<b>Details zur Aufgabenstellung:</b>\n",
    "- Benötigte Tabellen: Salespersons, Sales\n",
    "- Benötigte Spalten:\n",
    "  - aus Salespersons: FirstName, LastName, Phone, Email\n",
    "  - aus Sales: SaleID, SalePrice, SalespersonID\n",
    "- Die Ergebnistabelle soll die Spalten FirstName, LastName, Phone, Email, TotalBicyclesSold, TotalSalesAmount enthalten.\n",
    "- Ordnen Sie die Ergebnistabelle absteigend nach TotalSalesAmount.\n",
    "\n",
    "<b>Tipp:</b>\n",
    "- In PostgreSQL ist ein JOIN standardmässig ein INNER JOIN.\n",
    "\n",
    "<b style=\"color: gray;\">(max. erreichbare Punkte: 8)</b>"
   ]
  },
  {
   "cell_type": "code",
   "execution_count": null,
   "id": "c2d69f01",
   "metadata": {},
   "outputs": [],
   "source": [
    "# Engine für Datenbankverbindung erstellen\n",
    "\n",
    "\n",
    "# SQL-Abfrage erstellen und ausführen\n",
    "\n",
    "\n",
    "# Datenbankverbindung trennen\n",
    "\n",
    "\n",
    "# Ergebnis anzeigen\n"
   ]
  },
  {
   "cell_type": "markdown",
   "id": "08bd20f4",
   "metadata": {},
   "source": [
    "##### <b>Aufgabe (6): Ermitteln Sie, welche Bicycles der Marke Bianchi von März bis Dezember 2023 verkauft wurden und zu welchem Verkaufspreis.</b>\n",
    "<b>Details zur Aufgabenstellung:</b>\n",
    "- Benötigte Tabellen: Bicycles, Sales, Customers, Salespersons\n",
    "- Benötigte Spalten:\n",
    "  - aus Bicycles: BicycleID, Make, Model\n",
    "  - aus Sales: SalePrice, SaleDate\n",
    "  - aus Customers: FirstName, LastName\n",
    "  - aus Salespersons: FirstName, LastName\n",
    "- Die Ergebnistabelle soll die Spalten BicycleID, Make, Model, SalePrice, SaleDate, CustomerFirstName, CustomerLastName enthalten.\n",
    "- Beschränken Sie die Ausgabe auf 10 Zeilen.\n",
    "\n",
    "<b style=\"color: gray;\">(max. erreichbare Punkte: 8)</b>"
   ]
  },
  {
   "cell_type": "code",
   "execution_count": null,
   "id": "504ca399",
   "metadata": {},
   "outputs": [],
   "source": [
    "# Engine für Datenbankverbindung erstellen\n",
    "\n",
    "\n",
    "# SQL-Abfrage erstellen und ausführen\n",
    "\n",
    "\n",
    "# Datenbankverbindung trennen\n",
    "\n",
    "\n",
    "# Ergebnis anzeigen\n"
   ]
  },
  {
   "cell_type": "markdown",
   "id": "d67e3225",
   "metadata": {},
   "source": [
    "#### <b>Aufgabe (7): Ermitteln Sie für alle Jahre, wie hoch die durchschnittlichen Servicekosten pro Mechaniker und Fahrradmarke waren.</b>\n",
    "<b>Details zur Aufgabenstellung:</b>  \n",
    "- Benötigte Tabellen: Mechanics, ServiceRecords, Bicycles  \n",
    "- Benötigte Spalten:  \n",
    "  - aus Mechanics: FirstName, LastName  \n",
    "  - aus ServiceRecords: MechanicID, BicycleID, Cost, ServiceDate  \n",
    "  - aus Bicycles: BicycleID, Make\n",
    "- Die Ergebnistabelle soll die Spalten enthalten: MechanicFirstName, MechanicLastName, Make, ServicesCount, AverageServiceCosts, LastServiceDate.    \n",
    "- Sortieren Sie die Ausgabe absteigend nach AverageServiceCosts.\n",
    "\n",
    "<b>Tipp:</b>\n",
    "- LastServiceDate kann mit Hilfe von MAX(sr.ServiceDate) AS LastServiceDate ermittelt werden (sr = Tabelle ServiceRecords).\n",
    "\n",
    "<b style=\"color: gray;\">(max. erreichbare Punkte: 8)</b>"
   ]
  },
  {
   "cell_type": "code",
   "execution_count": null,
   "id": "909478da",
   "metadata": {},
   "outputs": [],
   "source": [
    "# Engine für Datenbankverbindung erstellen\n",
    "\n",
    "\n",
    "# SQL-Abfrage erstellen und ausführen\n",
    "\n",
    "\n",
    "# Datenbankverbindung trennen\n",
    "\n",
    "\n",
    "# Ergebnis anzeigen\n"
   ]
  },
  {
   "attachments": {},
   "cell_type": "markdown",
   "id": "ff525b1e",
   "metadata": {},
   "source": [
    "### Jupyter notebook --footer info-- (please always provide this at the end of each notebook)"
   ]
  },
  {
   "cell_type": "code",
   "execution_count": null,
   "id": "e6cae5b2",
   "metadata": {},
   "outputs": [],
   "source": [
    "import os\n",
    "import platform\n",
    "import socket\n",
    "from platform import python_version\n",
    "from datetime import datetime\n",
    "\n",
    "print('-----------------------------------')\n",
    "print(os.name.upper())\n",
    "print(platform.system(), '|', platform.release())\n",
    "print('Datetime:', datetime.now().strftime(\"%Y-%m-%d %H:%M:%S\"))\n",
    "print('Python Version:', python_version())\n",
    "print('IP Address:', socket.gethostbyname(socket.gethostname()))\n",
    "print('-----------------------------------')\n"
   ]
  }
 ],
 "metadata": {
  "kernelspec": {
   "display_name": "dsenv",
   "language": "python",
   "name": "python3"
  },
  "language_info": {
   "codemirror_mode": {
    "name": "ipython",
    "version": 3
   },
   "file_extension": ".py",
   "mimetype": "text/x-python",
   "name": "python",
   "nbconvert_exporter": "python",
   "pygments_lexer": "ipython3",
   "version": "3.12.4"
  }
 },
 "nbformat": 4,
 "nbformat_minor": 5
}
